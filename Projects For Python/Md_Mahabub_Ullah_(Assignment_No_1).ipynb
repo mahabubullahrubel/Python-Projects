{
  "nbformat": 4,
  "nbformat_minor": 0,
  "metadata": {
    "colab": {
      "provenance": []
    },
    "kernelspec": {
      "name": "python3",
      "display_name": "Python 3"
    },
    "language_info": {
      "name": "python"
    }
  },
  "cells": [
    {
      "cell_type": "markdown",
      "source": [
        "#Assignment No-1:\n",
        "1.Develop a dictionary named \"book_collection\" representing a collection of three books.\n",
        "2.Utilize the titles of the books as keys in your dictionary.\n",
        "3.For each book, provide details such as its author, publication year, and a brief summary.\n",
        "4.The keys for each book's dictionary should be author, publication_year, and summary.\n",
        "5.Print the title of each book alongside all the information stored about it."
      ],
      "metadata": {
        "id": "nZFTOWgLb_wB"
      }
    },
    {
      "cell_type": "markdown",
      "source": [
        "#Solution:"
      ],
      "metadata": {
        "id": "09Phu2MaBLW-"
      }
    },
    {
      "cell_type": "code",
      "source": [
        "# Defining the book_collection dictionary\n",
        "book_collection = {\n",
        "    \"To Kill a Mockingbird\": {\n",
        "        \"author\": \"Harper Lee\",\n",
        "        \"publication_year\": 1960,\n",
        "        \"summary\": \"The novel is renowned for its warmth and humor, despite dealing with serious issues of rape and racial inequality.\"\n",
        "    },\n",
        "    \"1984\": {\n",
        "        \"author\": \"George Orwell\",\n",
        "        \"publication_year\": 1949,\n",
        "        \"summary\": \"A dystopian social science fiction novel and cautionary tale, warning of the dangers of totalitarianism and extreme political ideology.\"\n",
        "    },\n",
        "    \"Moby-Dick\": {\n",
        "        \"author\": \"Herman Melville\",\n",
        "        \"publication_year\": 1851,\n",
        "        \"summary\": \"The story tells the adventures of wandering sailor Ishmael and his voyage on the whaleship Pequod, commanded by Captain Ahab.\"\n",
        "    }\n",
        "}\n",
        "\n",
        "# Printing the title of each book alongside all the information stored about it\n",
        "for title, details in book_collection.items():\n",
        "    print(f\"Title: {title}\")\n",
        "    for key, value in details.items():\n",
        "        print(f\"  {key.capitalize()}: {value}\")\n",
        "    print()"
      ],
      "metadata": {
        "id": "q3aRQap_beyj",
        "colab": {
          "base_uri": "https://localhost:8080/"
        },
        "outputId": "414af5df-0851-4121-dbc9-8e91059b5136"
      },
      "execution_count": 1,
      "outputs": [
        {
          "output_type": "stream",
          "name": "stdout",
          "text": [
            "Title: To Kill a Mockingbird\n",
            "  Author: Harper Lee\n",
            "  Publication_year: 1960\n",
            "  Summary: The novel is renowned for its warmth and humor, despite dealing with serious issues of rape and racial inequality.\n",
            "\n",
            "Title: 1984\n",
            "  Author: George Orwell\n",
            "  Publication_year: 1949\n",
            "  Summary: A dystopian social science fiction novel and cautionary tale, warning of the dangers of totalitarianism and extreme political ideology.\n",
            "\n",
            "Title: Moby-Dick\n",
            "  Author: Herman Melville\n",
            "  Publication_year: 1851\n",
            "  Summary: The story tells the adventures of wandering sailor Ishmael and his voyage on the whaleship Pequod, commanded by Captain Ahab.\n",
            "\n"
          ]
        }
      ]
    }
  ]
}